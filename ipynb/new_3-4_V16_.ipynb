{
 "cells": [
  {
   "cell_type": "code",
   "execution_count": 1,
   "id": "f13e106f",
   "metadata": {},
   "outputs": [],
   "source": [
    "import numpy as np\n",
    "import pandas as pd\n",
    "#import seaborn as sns\n",
    "import os\n",
    "import matplotlib.pyplot as plt\n",
    "import tensorflow as tf\n",
    "import tensorflow.keras\n",
    "from tensorflow.keras.callbacks import EarlyStopping, ReduceLROnPlateau\n",
    "from tensorflow.keras.regularizers import l2\n",
    "from tensorflow.keras import layers, models\n",
    "from tensorflow.keras.models import  Model\n",
    "from sklearn.utils import resample\n",
    "from keras.utils import to_categorical\n",
    "from sklearn.model_selection import train_test_split\n",
    "#from google.colab import drive\n",
    "import time\n",
    "\n",
    "np.random.seed(100)"
   ]
  },
  {
   "cell_type": "code",
   "execution_count": 2,
   "id": "d3a69119",
   "metadata": {},
   "outputs": [
    {
     "name": "stdout",
     "output_type": "stream",
     "text": [
      "(48, 48, 3)\n"
     ]
    }
   ],
   "source": [
    "train_dir = 'E:/dataset/CK_PIC/'\n",
    "val_dir = 'E:/dataset/FER2013/val/'\n",
    "\n",
    "BS = 10\n",
    "PATIENCE =10\n",
    "\n",
    "IMAGE_SIZE = (48,48)\n",
    "IMAGE_SHAPE = IMAGE_SIZE + (3,)\n",
    "print(IMAGE_SHAPE)\n",
    "\n",
    "classes=['Angry','Disgust','Fear','Happy','Neutral','Sad','Surprise']"
   ]
  },
  {
   "cell_type": "code",
   "execution_count": 3,
   "id": "a752d5ee",
   "metadata": {},
   "outputs": [],
   "source": [
    "from tensorflow.keras.preprocessing.image import ImageDataGenerator, load_img\n",
    "train_datagen = ImageDataGenerator(rescale = 1./255,\n",
    "                                    zoom_range=0.3,\n",
    "                                    shear_range=0.3,\n",
    "                                    rotation_range=20,\n",
    "                                    width_shift_range=0.2,\n",
    "                                    height_shift_range=0.2,\n",
    "                                    horizontal_flip=False\n",
    "                                    \n",
    "                                    )\n",
    "\n",
    "val_datagen  = ImageDataGenerator(rescale = 1./255\n",
    "                                   \n",
    "                                  )"
   ]
  },
  {
   "cell_type": "code",
   "execution_count": 4,
   "id": "febe8b3c",
   "metadata": {},
   "outputs": [
    {
     "name": "stdout",
     "output_type": "stream",
     "text": [
      "Found 902 images belonging to 7 classes.\n",
      "Found 3589 images belonging to 7 classes.\n"
     ]
    }
   ],
   "source": [
    "# Load datasat\n",
    "\n",
    "train_dataset  = train_datagen.flow_from_directory(directory = train_dir,\n",
    "                                                   target_size = IMAGE_SIZE,\n",
    "                                                   class_mode = 'categorical',\n",
    "                                                   batch_size = BS)\n",
    "#test_dir = 'N:/내 드라이브/DataSet/FER2013/test/'\n",
    "val_dataset = val_datagen.flow_from_directory(directory = val_dir,\n",
    "                                                  target_size = IMAGE_SIZE,\n",
    "                                                  class_mode = 'categorical',\n",
    "                                                  #shuffle =True,\n",
    "                                                  batch_size = BS)"
   ]
  },
  {
   "cell_type": "code",
   "execution_count": 5,
   "id": "aee87c42",
   "metadata": {},
   "outputs": [
    {
     "data": {
      "text/html": [
       "<table border=\"1\" class=\"dataframe\">\n",
       "  <thead>\n",
       "    <tr style=\"text-align: right;\">\n",
       "      <th></th>\n",
       "      <th>Angry</th>\n",
       "      <th>Disgust</th>\n",
       "      <th>Fear</th>\n",
       "      <th>Happy</th>\n",
       "      <th>Neutral</th>\n",
       "      <th>Sad</th>\n",
       "      <th>Surprise</th>\n",
       "    </tr>\n",
       "  </thead>\n",
       "  <tbody>\n",
       "    <tr>\n",
       "      <th>train</th>\n",
       "      <td>45</td>\n",
       "      <td>59</td>\n",
       "      <td>25</td>\n",
       "      <td>69</td>\n",
       "      <td>593</td>\n",
       "      <td>28</td>\n",
       "      <td>83</td>\n",
       "    </tr>\n",
       "    <tr>\n",
       "      <th>val</th>\n",
       "      <td>467</td>\n",
       "      <td>56</td>\n",
       "      <td>496</td>\n",
       "      <td>895</td>\n",
       "      <td>607</td>\n",
       "      <td>653</td>\n",
       "      <td>415</td>\n",
       "    </tr>\n",
       "  </tbody>\n",
       "</table>"
      ],
      "text/plain": [
       "<IPython.core.display.HTML object>"
      ]
     },
     "execution_count": 5,
     "metadata": {},
     "output_type": "execute_result"
    }
   ],
   "source": [
    "from IPython.display import Image, HTML\n",
    "# Total train/test sample\n",
    "\n",
    "def count_exp(path, set_):\n",
    "    dict_ = {}\n",
    "    for expression in os.listdir(path):\n",
    "        dir_ = path + expression\n",
    "        dict_[expression] = len(os.listdir(dir_))\n",
    "    df = pd.DataFrame(dict_, index=[set_])\n",
    "    return df\n",
    "train_count = count_exp(train_dir, 'train')\n",
    "val_count = count_exp(val_dir, 'val')\n",
    "\n",
    "HTML(train_count.append(val_count).to_html(escape=False))"
   ]
  },
  {
   "cell_type": "code",
   "execution_count": 6,
   "id": "1b36767d",
   "metadata": {},
   "outputs": [
    {
     "data": {
      "text/plain": [
       "{'Angry': 0,\n",
       " 'Disgust': 1,\n",
       " 'Fear': 2,\n",
       " 'Happy': 3,\n",
       " 'Neutral': 4,\n",
       " 'Sad': 5,\n",
       " 'Surprise': 6}"
      ]
     },
     "execution_count": 6,
     "metadata": {},
     "output_type": "execute_result"
    }
   ],
   "source": [
    "# Data labels\n",
    "\n",
    "class_labels = val_dataset.class_indices\n",
    "class_labels"
   ]
  },
  {
   "cell_type": "code",
   "execution_count": 7,
   "id": "b99db7a5",
   "metadata": {},
   "outputs": [
    {
     "data": {
      "image/png": "[encoded data removed]",
      "text/plain": [
       "<Figure size 1200x700 with 1 Axes>"
      ]
     },
     "metadata": {},
     "output_type": "display_data"
    }
   ],
   "source": [
    "# # lot distribution of train/test dataste per class\n",
    "\n",
    "x = list(val_count.columns)\n",
    "y1 =train_count.iloc[0].to_list()\n",
    "y2 = val_count.iloc[0].to_list()\n",
    "plt.figure(figsize=(12,7))\n",
    "\n",
    "plt.bar(x, y1, color='blue')\n",
    "plt.bar(x, y2, bottom=y1, color='violet')\n",
    "plt.xlabel(\"Emotions\")\n",
    "plt.ylabel(\"Train & Test data\")\n",
    "plt.legend([\"Train\", \"Val\"], loc='upper left')\n",
    "plt.title(\"FER-2013\")\n",
    "plt.savefig('distribution.png')\n",
    "plt.show()"
   ]
  },
  {
   "cell_type": "code",
   "execution_count": 8,
   "id": "0b1b522b",
   "metadata": {},
   "outputs": [
    {
     "data": {
      "text/plain": [
       "{0: 13.18, 1: 10.05, 2: 23.72, 3: 8.59, 4: 1.0, 5: 21.18, 6: 7.14}"
      ]
     },
     "execution_count": 8,
     "metadata": {},
     "output_type": "execute_result"
    }
   ],
   "source": [
    "from collections import Counter\n",
    "counter = Counter(train_dataset.classes)                          \n",
    "max_val = float(max(counter.values()))       \n",
    "class_weights = {class_id : round(max_val/num_images,2) for class_id, num_images in counter.items()}  \n",
    "class_weights"
   ]
  },
  {
   "cell_type": "code",
   "execution_count": 9,
   "id": "7e19cd80",
   "metadata": {},
   "outputs": [
    {
     "name": "stdout",
     "output_type": "stream",
     "text": [
      "Model: \"vgg16\"\n",
      "_________________________________________________________________\n",
      " Layer (type)                Output Shape              Param #   \n",
      "=================================================================\n",
      " input_1 (InputLayer)        [(None, 48, 48, 3)]       0         \n",
      "                                                                 \n",
      " block1_conv1 (Conv2D)       (None, 48, 48, 64)        1792      \n",
      "                                                                 \n",
      " block1_conv2 (Conv2D)       (None, 48, 48, 64)        36928     \n",
      "                                                                 \n",
      " block1_pool (MaxPooling2D)  (None, 24, 24, 64)        0         \n",
      "                                                                 \n",
      " block2_conv1 (Conv2D)       (None, 24, 24, 128)       73856     \n",
      "                                                                 \n",
      " block2_conv2 (Conv2D)       (None, 24, 24, 128)       147584    \n",
      "                                                                 \n",
      " block2_pool (MaxPooling2D)  (None, 12, 12, 128)       0         \n",
      "                                                                 \n",
      " block3_conv1 (Conv2D)       (None, 12, 12, 256)       295168    \n",
      "                                                                 \n",
      " block3_conv2 (Conv2D)       (None, 12, 12, 256)       590080    \n",
      "                                                                 \n",
      " block3_conv3 (Conv2D)       (None, 12, 12, 256)       590080    \n",
      "                                                                 \n",
      " block3_pool (MaxPooling2D)  (None, 6, 6, 256)         0         \n",
      "                                                                 \n",
      " block4_conv1 (Conv2D)       (None, 6, 6, 512)         1180160   \n",
      "                                                                 \n",
      " block4_conv2 (Conv2D)       (None, 6, 6, 512)         2359808   \n",
      "                                                                 \n",
      " block4_conv3 (Conv2D)       (None, 6, 6, 512)         2359808   \n",
      "                                                                 \n",
      " block4_pool (MaxPooling2D)  (None, 3, 3, 512)         0         \n",
      "                                                                 \n",
      " block5_conv1 (Conv2D)       (None, 3, 3, 512)         2359808   \n",
      "                                                                 \n",
      " block5_conv2 (Conv2D)       (None, 3, 3, 512)         2359808   \n",
      "                                                                 \n",
      " block5_conv3 (Conv2D)       (None, 3, 3, 512)         2359808   \n",
      "                                                                 \n",
      " block5_pool (MaxPooling2D)  (None, 1, 1, 512)         0         \n",
      "                                                                 \n",
      "=================================================================\n",
      "Total params: 14,714,688\n",
      "Trainable params: 14,714,688\n",
      "Non-trainable params: 0\n",
      "_________________________________________________________________\n"
     ]
    }
   ],
   "source": [
    "import tensorflow as tf\n",
    "from tensorflow.keras import models\n",
    "from tensorflow.keras.layers import Activation, BatchNormalization, Dense, Dropout, Flatten, Conv2D, MaxPool2D, GlobalAveragePooling2D\n",
    "from tensorflow.keras.optimizers import RMSprop, Adam\n",
    "\n",
    "base_model = tf.keras.applications.vgg16.VGG16(input_shape=IMAGE_SHAPE, include_top=False, weights=\"imagenet\")\n",
    "base_model.summary()\n",
    "\n"
   ]
  },
  {
   "cell_type": "code",
   "execution_count": 10,
   "id": "9df36f98",
   "metadata": {},
   "outputs": [],
   "source": [
    "for layer in base_model.layers:\n",
    "    layer.trainable=True"
   ]
  },
  {
   "cell_type": "code",
   "execution_count": 11,
   "id": "8ebbe15b",
   "metadata": {
    "scrolled": true
   },
   "outputs": [
    {
     "name": "stdout",
     "output_type": "stream",
     "text": [
      "Model: \"sequential\"\n",
      "_________________________________________________________________\n",
      " Layer (type)                Output Shape              Param #   \n",
      "=================================================================\n",
      " vgg16 (Functional)          (None, 1, 1, 512)         14714688  \n",
      "                                                                 \n",
      " global_average_pooling2d (G  (None, 512)              0         \n",
      " lobalAveragePooling2D)                                          \n",
      "                                                                 \n",
      " dense (Dense)               (None, 256)               131328    \n",
      "                                                                 \n",
      " dropout (Dropout)           (None, 256)               0         \n",
      "                                                                 \n",
      " dense_1 (Dense)             (None, 7)                 1799      \n",
      "                                                                 \n",
      "=================================================================\n",
      "Total params: 14,847,815\n",
      "Trainable params: 14,847,815\n",
      "Non-trainable params: 0\n",
      "_________________________________________________________________\n"
     ]
    }
   ],
   "source": [
    "model = models.Sequential()\n",
    "model.add(base_model)\n",
    "#model.add(layers.Conv2D(1280, (1, 1), (1, 1), 'same', activation='relu'))\n",
    "#model.add(layers.MaxPooling2D((2, 2)))\n",
    "model.add(layers.GlobalAveragePooling2D())\n",
    "model.add(Dense(256, activation='relu'))\n",
    "model.add(Dropout(0.3))\n",
    "#model.add(BatchNormalization())\n",
    "#model.add(Dropout(0.3))\n",
    "#model.add(Dense(128, activation='relu'))\n",
    "model.add(Dense(7, activation=\"softmax\"))\n",
    "model.summary()"
   ]
  },
  {
   "cell_type": "code",
   "execution_count": null,
   "id": "ac66812d",
   "metadata": {},
   "outputs": [],
   "source": []
  },
  {
   "cell_type": "code",
   "execution_count": 12,
   "id": "e3414aac",
   "metadata": {},
   "outputs": [],
   "source": [
    "from tensorflow.keras.callbacks import EarlyStopping, ModelCheckpoint\n",
    "import keras.backend as K\n",
    "\n",
    "def callbackFunction(modelName):\n",
    "  checkpoint = ModelCheckpoint(f\"Checkpoints/{modelName}.h5\", monitor = \"val_accuracy\", save_best_only = True, mode = \"auto\", verbose = 1)\n",
    "  early_stopping = EarlyStopping(monitor = \"val_accuracy\", patience = 10, verbose = 1)\n",
    "  callbacks = [early_stopping, checkpoint]\n",
    "  return callbacks\n",
    "\n",
    "def f1_score(y_true, y_pred): #taken from old keras source code\n",
    "    true_positives = K.sum(K.round(K.clip(y_true * y_pred, 0, 1)))\n",
    "    possible_positives = K.sum(K.round(K.clip(y_true, 0, 1)))\n",
    "    predicted_positives = K.sum(K.round(K.clip(y_pred, 0, 1)))\n",
    "    precision = true_positives / (predicted_positives + K.epsilon())\n",
    "    recall = true_positives / (possible_positives + K.epsilon())\n",
    "    f1_val = 2*(precision*recall)/(precision+recall+K.epsilon())\n",
    "    return f1_val\n"
   ]
  },
  {
   "cell_type": "code",
   "execution_count": 13,
   "id": "c537c691",
   "metadata": {},
   "outputs": [],
   "source": [
    "METRICS = [\n",
    "      tf.keras.metrics.Accuracy(name='accuracy'),\n",
    "      tf.keras.metrics.Precision(name='precision'),\n",
    "      tf.keras.metrics.Recall(name='recall'),  \n",
    "      tf.keras.metrics.AUC(name='auc'),\n",
    "      f1_score\n",
    "]\n",
    "\n",
    "model.compile(\n",
    "    optimizer=Adam(learning_rate=0.00001), \n",
    "    loss='categorical_crossentropy', \n",
    "    metrics=['accuracy']#, f1_score]\n",
    "     #metrics=METRICS        \n",
    ")"
   ]
  },
  {
   "cell_type": "code",
   "execution_count": 14,
   "id": "3a14df66",
   "metadata": {
    "scrolled": true
   },
   "outputs": [
    {
     "name": "stdout",
     "output_type": "stream",
     "text": [
      "Epoch 1/30\n",
      "89/91 [============================>.] - ETA: 0s - loss: 9.1978 - accuracy: 0.0964\n",
      "Epoch 1: val_accuracy improved from -inf to 0.19950, saving model to Checkpoints\\3-4_V16.h5\n",
      "91/91 [==============================] - 7s 53ms/step - loss: 9.2029 - accuracy: 0.0976 - val_loss: 1.9356 - val_accuracy: 0.1995\n",
      "Epoch 2/30\n",
      "90/91 [============================>.] - ETA: 0s - loss: 8.4377 - accuracy: 0.1827\n",
      "Epoch 2: val_accuracy did not improve from 0.19950\n",
      "91/91 [==============================] - 3s 37ms/step - loss: 8.4453 - accuracy: 0.1851 - val_loss: 1.9750 - val_accuracy: 0.1658\n",
      "Epoch 3/30\n",
      "91/91 [==============================] - ETA: 0s - loss: 7.9511 - accuracy: 0.2650\n",
      "Epoch 3: val_accuracy improved from 0.19950 to 0.19978, saving model to Checkpoints\\3-4_V16.h5\n",
      "91/91 [==============================] - 3s 38ms/step - loss: 7.9511 - accuracy: 0.2650 - val_loss: 1.9703 - val_accuracy: 0.1998\n",
      "Epoch 4/30\n",
      "90/91 [============================>.] - ETA: 0s - loss: 7.1942 - accuracy: 0.2937\n",
      "Epoch 4: val_accuracy improved from 0.19978 to 0.31792, saving model to Checkpoints\\3-4_V16.h5\n",
      "91/91 [==============================] - 4s 39ms/step - loss: 7.1424 - accuracy: 0.2971 - val_loss: 1.7933 - val_accuracy: 0.3179\n",
      "Epoch 5/30\n",
      "89/91 [============================>.] - ETA: 0s - loss: 6.7016 - accuracy: 0.3741\n",
      "Epoch 5: val_accuracy did not improve from 0.31792\n",
      "91/91 [==============================] - 3s 37ms/step - loss: 6.6462 - accuracy: 0.3736 - val_loss: 1.9979 - val_accuracy: 0.2600\n",
      "Epoch 6/30\n",
      "90/91 [============================>.] - ETA: 0s - loss: 5.8501 - accuracy: 0.4753\n",
      "Epoch 6: val_accuracy did not improve from 0.31792\n",
      "91/91 [==============================] - 4s 39ms/step - loss: 5.8030 - accuracy: 0.4767 - val_loss: 1.9518 - val_accuracy: 0.2770\n",
      "Epoch 7/30\n",
      "90/91 [============================>.] - ETA: 0s - loss: 5.5333 - accuracy: 0.4641\n",
      "Epoch 7: val_accuracy did not improve from 0.31792\n",
      "91/91 [==============================] - 4s 41ms/step - loss: 5.5005 - accuracy: 0.4690 - val_loss: 2.1826 - val_accuracy: 0.2221\n",
      "Epoch 8/30\n",
      "91/91 [==============================] - ETA: 0s - loss: 5.6557 - accuracy: 0.4956\n",
      "Epoch 8: val_accuracy did not improve from 0.31792\n",
      "91/91 [==============================] - 4s 42ms/step - loss: 5.6557 - accuracy: 0.4956 - val_loss: 1.9707 - val_accuracy: 0.2887\n",
      "Epoch 9/30\n",
      "89/91 [============================>.] - ETA: 0s - loss: 4.6057 - accuracy: 0.5249\n",
      "Epoch 9: val_accuracy did not improve from 0.31792\n",
      "91/91 [==============================] - 4s 42ms/step - loss: 4.5806 - accuracy: 0.5233 - val_loss: 2.5526 - val_accuracy: 0.1992\n",
      "Epoch 10/30\n",
      "91/91 [==============================] - ETA: 0s - loss: 4.1598 - accuracy: 0.6053\n",
      "Epoch 10: val_accuracy did not improve from 0.31792\n",
      "91/91 [==============================] - 4s 43ms/step - loss: 4.1598 - accuracy: 0.6053 - val_loss: 2.2118 - val_accuracy: 0.2870\n",
      "Epoch 11/30\n",
      "91/91 [==============================] - ETA: 0s - loss: 4.1267 - accuracy: 0.5987\n",
      "Epoch 11: val_accuracy did not improve from 0.31792\n",
      "91/91 [==============================] - 4s 46ms/step - loss: 4.1267 - accuracy: 0.5987 - val_loss: 2.2982 - val_accuracy: 0.2625\n",
      "Epoch 12/30\n",
      "91/91 [==============================] - ETA: 0s - loss: 3.5912 - accuracy: 0.5965\n",
      "Epoch 12: val_accuracy did not improve from 0.31792\n",
      "91/91 [==============================] - 4s 45ms/step - loss: 3.5912 - accuracy: 0.5965 - val_loss: 2.1720 - val_accuracy: 0.2914\n",
      "Epoch 13/30\n",
      "91/91 [==============================] - ETA: 0s - loss: 3.1919 - accuracy: 0.6729\n",
      "Epoch 13: val_accuracy did not improve from 0.31792\n",
      "91/91 [==============================] - 4s 45ms/step - loss: 3.1919 - accuracy: 0.6729 - val_loss: 2.2165 - val_accuracy: 0.3171\n",
      "Epoch 14/30\n",
      "91/91 [==============================] - ETA: 0s - loss: 3.8576 - accuracy: 0.6397\n",
      "Epoch 14: val_accuracy did not improve from 0.31792\n",
      "91/91 [==============================] - 4s 45ms/step - loss: 3.8576 - accuracy: 0.6397 - val_loss: 2.3177 - val_accuracy: 0.2853\n",
      "Epoch 14: early stopping\n"
     ]
    }
   ],
   "source": [
    "with tf.device('/GPU:0'):\n",
    "    history = model.fit(train_dataset, validation_data=val_dataset,  \n",
    "                      callbacks=callbackFunction('3-4_V16'),\n",
    "                      batch_size=BS,  \n",
    "                      epochs = 30, \n",
    "                      verbose=1,\n",
    "                      class_weight = class_weights\n",
    "                      )"
   ]
  },
  {
   "cell_type": "code",
   "execution_count": 15,
   "id": "cec62615",
   "metadata": {},
   "outputs": [
    {
     "data": {
      "image/png": "[encoded data removed]",
      "text/plain": [
       "<Figure size 1200x400 with 2 Axes>"
      ]
     },
     "metadata": {},
     "output_type": "display_data"
    }
   ],
   "source": [
    "import matplotlib.pyplot as plt\n",
    "\n",
    "# Extract training history\n",
    "training_loss = history.history['loss']\n",
    "training_accuracy = history.history['accuracy']\n",
    "validation_loss = history.history['val_loss']\n",
    "validation_accuracy = history.history['val_accuracy']\n",
    "\n",
    "# Plot training and validation loss\n",
    "plt.figure(figsize=(12, 4))\n",
    "plt.subplot(1, 2, 1)\n",
    "plt.plot(training_loss, label='Training Loss')\n",
    "plt.plot(validation_loss, label='Validation Loss')\n",
    "plt.title('Training and Validation Loss')\n",
    "plt.xlabel('Epoch')\n",
    "plt.ylabel('Loss')\n",
    "plt.legend()\n",
    "\n",
    "# Plot training and validation accuracy\n",
    "plt.subplot(1, 2, 2)\n",
    "plt.plot(training_accuracy, label='Training Accuracy')\n",
    "plt.plot(validation_accuracy, label='Validation Accuracy')\n",
    "plt.title('Training and Validation Accuracy')\n",
    "plt.xlabel('Epoch')\n",
    "plt.ylabel('Accuracy')\n",
    "plt.legend()\n",
    "\n",
    "plt.tight_layout()\n",
    "plt.show()"
   ]
  },
  {
   "cell_type": "code",
   "execution_count": 21,
   "id": "b165e734",
   "metadata": {},
   "outputs": [],
   "source": [
    "model.save('new_3-1_v16_FER2013.h5')"
   ]
  },
  {
   "cell_type": "code",
   "execution_count": 16,
   "id": "aa8bdabb",
   "metadata": {},
   "outputs": [
    {
     "name": "stdout",
     "output_type": "stream",
     "text": [
      "Found 758 images belonging to 7 classes.\n",
      "Found 213 images belonging to 7 classes.\n"
     ]
    }
   ],
   "source": [
    "test_dir = 'E:/dataset/Only_Kor_Test/'\n",
    "test_datagen  = ImageDataGenerator(rescale = 1./255)\n",
    "test_dataset = test_datagen.flow_from_directory(directory = test_dir,\n",
    "                                                  target_size = IMAGE_SIZE,\n",
    "                                                  class_mode = 'categorical',\n",
    "                                                  #shuffle =True,\n",
    "                                                  batch_size = BS)\n",
    "jaffe_dir = 'E:/dataset/jaffedbase/'\n",
    "jaffe_datagen  = ImageDataGenerator(rescale = 1./255)\n",
    "jaffe_dataset = test_datagen.flow_from_directory(directory = jaffe_dir,\n",
    "                                                  target_size = IMAGE_SIZE,\n",
    "                                                  class_mode = 'categorical',\n",
    "                                                  #shuffle =True,\n",
    "                                                  batch_size = BS)"
   ]
  },
  {
   "cell_type": "code",
   "execution_count": 17,
   "id": "b449db57",
   "metadata": {},
   "outputs": [
    {
     "name": "stdout",
     "output_type": "stream",
     "text": [
      "91/91 [==============================] - 1s 7ms/step - loss: 1.0306 - accuracy: 0.5898\n",
      "359/359 [==============================] - 2s 6ms/step - loss: 2.3177 - accuracy: 0.2853\n",
      "76/76 [==============================] - 1s 8ms/step - loss: 2.5250 - accuracy: 0.1583\n",
      "22/22 [==============================] - 0s 14ms/step - loss: 2.3429 - accuracy: 0.2535\n"
     ]
    }
   ],
   "source": [
    "train_evalation = model.evaluate(train_dataset)\n",
    "val_evalation = model.evaluate(val_dataset)\n",
    "test_evaluation = model.evaluate(test_dataset)\n",
    "jaffe_evaluation = model.evaluate(jaffe_dataset)"
   ]
  },
  {
   "cell_type": "code",
   "execution_count": 19,
   "id": "d7a723f3",
   "metadata": {},
   "outputs": [
    {
     "name": "stdout",
     "output_type": "stream",
     "text": [
      "\n",
      "\n",
      "Model Scores\n",
      "\n"
     ]
    },
    {
     "data": {
      "text/html": [
       "<table border=\"1\" class=\"dataframe\">\n",
       "  <thead>\n",
       "    <tr style=\"text-align: right;\">\n",
       "      <th></th>\n",
       "      <th>Metric Name</th>\n",
       "      <th>Train</th>\n",
       "      <th>Validate</th>\n",
       "      <th>KFE</th>\n",
       "      <th>JAFFE</th>\n",
       "    </tr>\n",
       "  </thead>\n",
       "  <tbody>\n",
       "    <tr>\n",
       "      <th>0</th>\n",
       "      <td>Loss</td>\n",
       "      <td>1.031</td>\n",
       "      <td>2.318</td>\n",
       "      <td>2.525</td>\n",
       "      <td>2.343</td>\n",
       "    </tr>\n",
       "    <tr>\n",
       "      <th>1</th>\n",
       "      <td>Accuracy</td>\n",
       "      <td>0.590</td>\n",
       "      <td>0.285</td>\n",
       "      <td>0.158</td>\n",
       "      <td>0.254</td>\n",
       "    </tr>\n",
       "  </tbody>\n",
       "</table>"
      ],
      "text/plain": [
       "<IPython.core.display.HTML object>"
      ]
     },
     "execution_count": 19,
     "metadata": {},
     "output_type": "execute_result"
    }
   ],
   "source": [
    "metric_list = [\"Loss\",\"Accuracy\", \"Precision\", \"F1_Score\", \"Recall\", \"Auc\"]\n",
    "\n",
    "df = pd.DataFrame(list(zip(metric_list, \n",
    "                           [round(num, 3) for num in train_evalation], \n",
    "                           [round(num, 3) for num in val_evalation],\n",
    "                           [round(num, 3) for num in test_evaluation],\n",
    "                           [round(num, 3) for num in jaffe_evaluation],\n",
    "                          )),\n",
    "                  columns=['Metric Name', 'Train', 'Validate', 'KFE', 'JAFFE'])\n",
    "\n",
    "print('\\n\\nModel Scores\\n')\n",
    "\n",
    "HTML(df.to_html(escape=False))"
   ]
  },
  {
   "cell_type": "code",
   "execution_count": null,
   "id": "5af7d904",
   "metadata": {},
   "outputs": [],
   "source": []
  },
  {
   "cell_type": "code",
   "execution_count": null,
   "id": "74910357",
   "metadata": {},
   "outputs": [],
   "source": []
  }
 ],
 "metadata": {
  "kernelspec": {
   "display_name": "Python 3 (ipykernel)",
   "language": "python",
   "name": "python3"
  },
  "language_info": {
   "codemirror_mode": {
    "name": "ipython",
    "version": 3
   },
   "file_extension": ".py",
   "mimetype": "text/x-python",
   "name": "python",
   "nbconvert_exporter": "python",
   "pygments_lexer": "ipython3",
   "version": "3.8.10"
  }
 },
 "nbformat": 4,
 "nbformat_minor": 5
}
