{
 "cells": [
  {
   "cell_type": "code",
   "execution_count": 2,
   "id": "f13e106f",
   "metadata": {},
   "outputs": [],
   "source": [
    "import numpy as np\n",
    "import pandas as pd\n",
    "#import seaborn as sns\n",
    "import os\n",
    "import matplotlib.pyplot as plt\n",
    "import tensorflow as tf\n",
    "import tensorflow.keras\n",
    "from tensorflow.keras.callbacks import EarlyStopping, ReduceLROnPlateau\n",
    "from tensorflow.keras.regularizers import l2\n",
    "from tensorflow.keras import layers, models\n",
    "from tensorflow.keras.models import  Model\n",
    "from sklearn.utils import resample\n",
    "from keras.utils import to_categorical\n",
    "from sklearn.model_selection import train_test_split\n",
    "#from google.colab import drive\n",
    "import time\n",
    "\n",
    "np.random.seed(100)"
   ]
  },
  {
   "cell_type": "code",
   "execution_count": 4,
   "id": "d3a69119",
   "metadata": {},
   "outputs": [
    {
     "name": "stdout",
     "output_type": "stream",
     "text": [
      "(48, 48, 3)\n"
     ]
    }
   ],
   "source": [
    "train_dir = 'E:/dataset/KFE_Train/'\n",
    "val_dir = 'E:/dataset/FER2013/val/'\n",
    "\n",
    "BS = 10\n",
    "PATIENCE =10\n",
    "\n",
    "IMAGE_SIZE = (48,48)\n",
    "IMAGE_SHAPE = IMAGE_SIZE + (3,)\n",
    "print(IMAGE_SHAPE)\n",
    "\n",
    "classes=['Angry','Disgust','Fear','Happy','Neutral','Sad','Surprise']"
   ]
  },
  {
   "cell_type": "code",
   "execution_count": 5,
   "id": "a752d5ee",
   "metadata": {},
   "outputs": [],
   "source": [
    "from tensorflow.keras.preprocessing.image import ImageDataGenerator, load_img\n",
    "train_datagen = ImageDataGenerator(rescale = 1./255,\n",
    "                                    zoom_range=0.3,\n",
    "                                    shear_range=0.3,\n",
    "                                    rotation_range=20,\n",
    "                                    width_shift_range=0.2,\n",
    "                                    height_shift_range=0.2,\n",
    "                                    horizontal_flip=False\n",
    "                                    \n",
    "                                    )\n",
    "\n",
    "val_datagen  = ImageDataGenerator(rescale = 1./255\n",
    "                                   \n",
    "                                  )"
   ]
  },
  {
   "cell_type": "code",
   "execution_count": 6,
   "id": "febe8b3c",
   "metadata": {},
   "outputs": [
    {
     "name": "stdout",
     "output_type": "stream",
     "text": [
      "Found 2324 images belonging to 7 classes.\n",
      "Found 3589 images belonging to 7 classes.\n"
     ]
    }
   ],
   "source": [
    "# Load datasat\n",
    "\n",
    "train_dataset  = train_datagen.flow_from_directory(directory = train_dir,\n",
    "                                                   target_size = IMAGE_SIZE,\n",
    "                                                   class_mode = 'categorical',\n",
    "                                                   batch_size = BS)\n",
    "#test_dir = 'N:/내 드라이브/DataSet/FER2013/test/'\n",
    "val_dataset = val_datagen.flow_from_directory(directory = val_dir,\n",
    "                                                  target_size = IMAGE_SIZE,\n",
    "                                                  class_mode = 'categorical',\n",
    "                                                  #shuffle =True,\n",
    "                                                  batch_size = BS)"
   ]
  },
  {
   "cell_type": "code",
   "execution_count": 7,
   "id": "aee87c42",
   "metadata": {},
   "outputs": [
    {
     "data": {
      "text/html": [
       "<table border=\"1\" class=\"dataframe\">\n",
       "  <thead>\n",
       "    <tr style=\"text-align: right;\">\n",
       "      <th></th>\n",
       "      <th>Angry</th>\n",
       "      <th>Disgust</th>\n",
       "      <th>Fear</th>\n",
       "      <th>Happy</th>\n",
       "      <th>Neutral</th>\n",
       "      <th>Sad</th>\n",
       "      <th>Surprise</th>\n",
       "    </tr>\n",
       "  </thead>\n",
       "  <tbody>\n",
       "    <tr>\n",
       "      <th>train</th>\n",
       "      <td>336</td>\n",
       "      <td>301</td>\n",
       "      <td>294</td>\n",
       "      <td>350</td>\n",
       "      <td>378</td>\n",
       "      <td>343</td>\n",
       "      <td>322</td>\n",
       "    </tr>\n",
       "    <tr>\n",
       "      <th>val</th>\n",
       "      <td>467</td>\n",
       "      <td>56</td>\n",
       "      <td>496</td>\n",
       "      <td>895</td>\n",
       "      <td>607</td>\n",
       "      <td>653</td>\n",
       "      <td>415</td>\n",
       "    </tr>\n",
       "  </tbody>\n",
       "</table>"
      ],
      "text/plain": [
       "<IPython.core.display.HTML object>"
      ]
     },
     "execution_count": 7,
     "metadata": {},
     "output_type": "execute_result"
    }
   ],
   "source": [
    "from IPython.display import Image, HTML\n",
    "# Total train/test sample\n",
    "\n",
    "def count_exp(path, set_):\n",
    "    dict_ = {}\n",
    "    for expression in os.listdir(path):\n",
    "        dir_ = path + expression\n",
    "        dict_[expression] = len(os.listdir(dir_))\n",
    "    df = pd.DataFrame(dict_, index=[set_])\n",
    "    return df\n",
    "train_count = count_exp(train_dir, 'train')\n",
    "val_count = count_exp(val_dir, 'val')\n",
    "\n",
    "HTML(train_count.append(val_count).to_html(escape=False))"
   ]
  },
  {
   "cell_type": "code",
   "execution_count": 8,
   "id": "1b36767d",
   "metadata": {},
   "outputs": [
    {
     "data": {
      "text/plain": [
       "{'Angry': 0,\n",
       " 'Disgust': 1,\n",
       " 'Fear': 2,\n",
       " 'Happy': 3,\n",
       " 'Neutral': 4,\n",
       " 'Sad': 5,\n",
       " 'Surprise': 6}"
      ]
     },
     "execution_count": 8,
     "metadata": {},
     "output_type": "execute_result"
    }
   ],
   "source": [
    "# Data labels\n",
    "\n",
    "class_labels = val_dataset.class_indices\n",
    "class_labels"
   ]
  },
  {
   "cell_type": "code",
   "execution_count": 9,
   "id": "b99db7a5",
   "metadata": {},
   "outputs": [
    {
     "data": {
      "image/png": "[encoded data removed]",
      "text/plain": [
       "<Figure size 1200x700 with 1 Axes>"
      ]
     },
     "metadata": {},
     "output_type": "display_data"
    }
   ],
   "source": [
    "# # lot distribution of train/test dataste per class\n",
    "\n",
    "x = list(val_count.columns)\n",
    "y1 =train_count.iloc[0].to_list()\n",
    "y2 = val_count.iloc[0].to_list()\n",
    "plt.figure(figsize=(12,7))\n",
    "\n",
    "plt.bar(x, y1, color='blue')\n",
    "plt.bar(x, y2, bottom=y1, color='violet')\n",
    "plt.xlabel(\"Emotions\")\n",
    "plt.ylabel(\"Train & Test data\")\n",
    "plt.legend([\"Train\", \"Val\"], loc='upper left')\n",
    "plt.title(\"FER-2013\")\n",
    "plt.savefig('distribution.png')\n",
    "plt.show()"
   ]
  },
  {
   "cell_type": "code",
   "execution_count": 10,
   "id": "0b1b522b",
   "metadata": {},
   "outputs": [
    {
     "data": {
      "text/plain": [
       "{0: 1.12, 1: 1.26, 2: 1.29, 3: 1.08, 4: 1.0, 5: 1.1, 6: 1.17}"
      ]
     },
     "execution_count": 10,
     "metadata": {},
     "output_type": "execute_result"
    }
   ],
   "source": [
    "from collections import Counter\n",
    "counter = Counter(train_dataset.classes)                          \n",
    "max_val = float(max(counter.values()))       \n",
    "class_weights = {class_id : round(max_val/num_images,2) for class_id, num_images in counter.items()}  \n",
    "class_weights"
   ]
  },
  {
   "cell_type": "code",
   "execution_count": 11,
   "id": "7e19cd80",
   "metadata": {},
   "outputs": [
    {
     "name": "stdout",
     "output_type": "stream",
     "text": [
      "Model: \"vgg16\"\n",
      "_________________________________________________________________\n",
      " Layer (type)                Output Shape              Param #   \n",
      "=================================================================\n",
      " input_1 (InputLayer)        [(None, 48, 48, 3)]       0         \n",
      "                                                                 \n",
      " block1_conv1 (Conv2D)       (None, 48, 48, 64)        1792      \n",
      "                                                                 \n",
      " block1_conv2 (Conv2D)       (None, 48, 48, 64)        36928     \n",
      "                                                                 \n",
      " block1_pool (MaxPooling2D)  (None, 24, 24, 64)        0         \n",
      "                                                                 \n",
      " block2_conv1 (Conv2D)       (None, 24, 24, 128)       73856     \n",
      "                                                                 \n",
      " block2_conv2 (Conv2D)       (None, 24, 24, 128)       147584    \n",
      "                                                                 \n",
      " block2_pool (MaxPooling2D)  (None, 12, 12, 128)       0         \n",
      "                                                                 \n",
      " block3_conv1 (Conv2D)       (None, 12, 12, 256)       295168    \n",
      "                                                                 \n",
      " block3_conv2 (Conv2D)       (None, 12, 12, 256)       590080    \n",
      "                                                                 \n",
      " block3_conv3 (Conv2D)       (None, 12, 12, 256)       590080    \n",
      "                                                                 \n",
      " block3_pool (MaxPooling2D)  (None, 6, 6, 256)         0         \n",
      "                                                                 \n",
      " block4_conv1 (Conv2D)       (None, 6, 6, 512)         1180160   \n",
      "                                                                 \n",
      " block4_conv2 (Conv2D)       (None, 6, 6, 512)         2359808   \n",
      "                                                                 \n",
      " block4_conv3 (Conv2D)       (None, 6, 6, 512)         2359808   \n",
      "                                                                 \n",
      " block4_pool (MaxPooling2D)  (None, 3, 3, 512)         0         \n",
      "                                                                 \n",
      " block5_conv1 (Conv2D)       (None, 3, 3, 512)         2359808   \n",
      "                                                                 \n",
      " block5_conv2 (Conv2D)       (None, 3, 3, 512)         2359808   \n",
      "                                                                 \n",
      " block5_conv3 (Conv2D)       (None, 3, 3, 512)         2359808   \n",
      "                                                                 \n",
      " block5_pool (MaxPooling2D)  (None, 1, 1, 512)         0         \n",
      "                                                                 \n",
      "=================================================================\n",
      "Total params: 14,714,688\n",
      "Trainable params: 14,714,688\n",
      "Non-trainable params: 0\n",
      "_________________________________________________________________\n"
     ]
    }
   ],
   "source": [
    "import tensorflow as tf\n",
    "from tensorflow.keras import models\n",
    "from tensorflow.keras.layers import Activation, BatchNormalization, Dense, Dropout, Flatten, Conv2D, MaxPool2D, GlobalAveragePooling2D\n",
    "from tensorflow.keras.optimizers import RMSprop, Adam\n",
    "\n",
    "base_model = tf.keras.applications.vgg16.VGG16(input_shape=IMAGE_SHAPE, include_top=False, weights=\"imagenet\")\n",
    "base_model.summary()\n",
    "\n"
   ]
  },
  {
   "cell_type": "code",
   "execution_count": 12,
   "id": "9df36f98",
   "metadata": {},
   "outputs": [],
   "source": [
    "for layer in base_model.layers:\n",
    "    layer.trainable=True"
   ]
  },
  {
   "cell_type": "code",
   "execution_count": 13,
   "id": "8ebbe15b",
   "metadata": {
    "scrolled": true
   },
   "outputs": [
    {
     "name": "stdout",
     "output_type": "stream",
     "text": [
      "Model: \"sequential\"\n",
      "_________________________________________________________________\n",
      " Layer (type)                Output Shape              Param #   \n",
      "=================================================================\n",
      " vgg16 (Functional)          (None, 1, 1, 512)         14714688  \n",
      "                                                                 \n",
      " global_average_pooling2d (G  (None, 512)              0         \n",
      " lobalAveragePooling2D)                                          \n",
      "                                                                 \n",
      " dense (Dense)               (None, 256)               131328    \n",
      "                                                                 \n",
      " dropout (Dropout)           (None, 256)               0         \n",
      "                                                                 \n",
      " dense_1 (Dense)             (None, 7)                 1799      \n",
      "                                                                 \n",
      "=================================================================\n",
      "Total params: 14,847,815\n",
      "Trainable params: 14,847,815\n",
      "Non-trainable params: 0\n",
      "_________________________________________________________________\n"
     ]
    }
   ],
   "source": [
    "model = models.Sequential()\n",
    "model.add(base_model)\n",
    "#model.add(layers.Conv2D(1280, (1, 1), (1, 1), 'same', activation='relu'))\n",
    "#model.add(layers.MaxPooling2D((2, 2)))\n",
    "model.add(layers.GlobalAveragePooling2D())\n",
    "model.add(Dense(256, activation='relu'))\n",
    "model.add(Dropout(0.3))\n",
    "#model.add(BatchNormalization())\n",
    "#model.add(Dropout(0.3))\n",
    "#model.add(Dense(128, activation='relu'))\n",
    "model.add(Dense(7, activation=\"softmax\"))\n",
    "model.summary()"
   ]
  },
  {
   "cell_type": "code",
   "execution_count": null,
   "id": "ac66812d",
   "metadata": {},
   "outputs": [],
   "source": []
  },
  {
   "cell_type": "code",
   "execution_count": 14,
   "id": "e3414aac",
   "metadata": {},
   "outputs": [],
   "source": [
    "from tensorflow.keras.callbacks import EarlyStopping, ModelCheckpoint\n",
    "import keras.backend as K\n",
    "\n",
    "def callbackFunction(modelName):\n",
    "  checkpoint = ModelCheckpoint(f\"Checkpoints/{modelName}.h5\", monitor = \"val_accuracy\", save_best_only = True, mode = \"auto\", verbose = 1)\n",
    "  early_stopping = EarlyStopping(monitor = \"val_accuracy\", patience = 10, verbose = 1)\n",
    "  callbacks = [early_stopping, checkpoint]\n",
    "  return callbacks\n",
    "\n",
    "def f1_score(y_true, y_pred): #taken from old keras source code\n",
    "    true_positives = K.sum(K.round(K.clip(y_true * y_pred, 0, 1)))\n",
    "    possible_positives = K.sum(K.round(K.clip(y_true, 0, 1)))\n",
    "    predicted_positives = K.sum(K.round(K.clip(y_pred, 0, 1)))\n",
    "    precision = true_positives / (predicted_positives + K.epsilon())\n",
    "    recall = true_positives / (possible_positives + K.epsilon())\n",
    "    f1_val = 2*(precision*recall)/(precision+recall+K.epsilon())\n",
    "    return f1_val\n"
   ]
  },
  {
   "cell_type": "code",
   "execution_count": 15,
   "id": "c537c691",
   "metadata": {},
   "outputs": [],
   "source": [
    "METRICS = [\n",
    "      tf.keras.metrics.Accuracy(name='accuracy'),\n",
    "      tf.keras.metrics.Precision(name='precision'),\n",
    "      tf.keras.metrics.Recall(name='recall'),  \n",
    "      tf.keras.metrics.AUC(name='auc'),\n",
    "      f1_score\n",
    "]\n",
    "\n",
    "model.compile(\n",
    "    optimizer=Adam(learning_rate=0.00001), \n",
    "    loss='categorical_crossentropy', \n",
    "    metrics=['accuracy']#, f1_score]\n",
    "     #metrics=METRICS        \n",
    ")"
   ]
  },
  {
   "cell_type": "code",
   "execution_count": 16,
   "id": "3a14df66",
   "metadata": {
    "scrolled": true
   },
   "outputs": [
    {
     "name": "stdout",
     "output_type": "stream",
     "text": [
      "Epoch 1/30\n",
      "233/233 [==============================] - ETA: 0s - loss: 2.3031 - accuracy: 0.1472\n",
      "Epoch 1: val_accuracy improved from -inf to 0.18334, saving model to Checkpoints\\3-5_V16.h5\n",
      "233/233 [==============================] - 13s 44ms/step - loss: 2.3031 - accuracy: 0.1472 - val_loss: 1.9596 - val_accuracy: 0.1833\n",
      "Epoch 2/30\n",
      "233/233 [==============================] - ETA: 0s - loss: 2.2341 - accuracy: 0.1687\n",
      "Epoch 2: val_accuracy improved from 0.18334 to 0.19671, saving model to Checkpoints\\3-5_V16.h5\n",
      "233/233 [==============================] - 7s 28ms/step - loss: 2.2341 - accuracy: 0.1687 - val_loss: 1.9246 - val_accuracy: 0.1967\n",
      "Epoch 3/30\n",
      "232/233 [============================>.] - ETA: 0s - loss: 2.2255 - accuracy: 0.1465\n",
      "Epoch 3: val_accuracy did not improve from 0.19671\n",
      "233/233 [==============================] - 6s 28ms/step - loss: 2.2252 - accuracy: 0.1472 - val_loss: 1.9631 - val_accuracy: 0.1750\n",
      "Epoch 4/30\n",
      "232/233 [============================>.] - ETA: 0s - loss: 2.2194 - accuracy: 0.1482\n",
      "Epoch 4: val_accuracy did not improve from 0.19671\n",
      "233/233 [==============================] - 7s 30ms/step - loss: 2.2192 - accuracy: 0.1476 - val_loss: 1.9742 - val_accuracy: 0.0658\n",
      "Epoch 5/30\n",
      "233/233 [==============================] - ETA: 0s - loss: 2.2141 - accuracy: 0.1652\n",
      "Epoch 5: val_accuracy did not improve from 0.19671\n",
      "233/233 [==============================] - 7s 32ms/step - loss: 2.2141 - accuracy: 0.1652 - val_loss: 1.9475 - val_accuracy: 0.1711\n",
      "Epoch 6/30\n",
      "232/233 [============================>.] - ETA: 0s - loss: 2.2091 - accuracy: 0.1668\n",
      "Epoch 6: val_accuracy did not improve from 0.19671\n",
      "233/233 [==============================] - 7s 32ms/step - loss: 2.2093 - accuracy: 0.1661 - val_loss: 1.9405 - val_accuracy: 0.1441\n",
      "Epoch 7/30\n",
      "231/233 [============================>.] - ETA: 0s - loss: 2.2047 - accuracy: 0.1632\n",
      "Epoch 7: val_accuracy did not improve from 0.19671\n",
      "233/233 [==============================] - 7s 31ms/step - loss: 2.2051 - accuracy: 0.1631 - val_loss: 1.9356 - val_accuracy: 0.1964\n",
      "Epoch 8/30\n",
      "233/233 [==============================] - ETA: 0s - loss: 2.2018 - accuracy: 0.1687\n",
      "Epoch 8: val_accuracy improved from 0.19671 to 0.22402, saving model to Checkpoints\\3-5_V16.h5\n",
      "233/233 [==============================] - 7s 32ms/step - loss: 2.2018 - accuracy: 0.1687 - val_loss: 1.9028 - val_accuracy: 0.2240\n",
      "Epoch 9/30\n",
      "232/233 [============================>.] - ETA: 0s - loss: 2.1701 - accuracy: 0.1958\n",
      "Epoch 9: val_accuracy did not improve from 0.22402\n",
      "233/233 [==============================] - 8s 33ms/step - loss: 2.1700 - accuracy: 0.1958 - val_loss: 1.8972 - val_accuracy: 0.2115\n",
      "Epoch 10/30\n",
      "233/233 [==============================] - ETA: 0s - loss: 2.1327 - accuracy: 0.2242\n",
      "Epoch 10: val_accuracy improved from 0.22402 to 0.23683, saving model to Checkpoints\\3-5_V16.h5\n",
      "233/233 [==============================] - 7s 32ms/step - loss: 2.1327 - accuracy: 0.2242 - val_loss: 1.9717 - val_accuracy: 0.2368\n",
      "Epoch 11/30\n",
      "232/233 [============================>.] - ETA: 0s - loss: 2.1016 - accuracy: 0.2284\n",
      "Epoch 11: val_accuracy improved from 0.23683 to 0.25773, saving model to Checkpoints\\3-5_V16.h5\n",
      "233/233 [==============================] - 8s 32ms/step - loss: 2.1012 - accuracy: 0.2285 - val_loss: 1.8934 - val_accuracy: 0.2577\n",
      "Epoch 12/30\n",
      "233/233 [==============================] - ETA: 0s - loss: 2.0502 - accuracy: 0.2616\n",
      "Epoch 12: val_accuracy did not improve from 0.25773\n",
      "233/233 [==============================] - 7s 31ms/step - loss: 2.0502 - accuracy: 0.2616 - val_loss: 1.8957 - val_accuracy: 0.2477\n",
      "Epoch 13/30\n",
      "233/233 [==============================] - ETA: 0s - loss: 2.0512 - accuracy: 0.2573\n",
      "Epoch 13: val_accuracy improved from 0.25773 to 0.32906, saving model to Checkpoints\\3-5_V16.h5\n",
      "233/233 [==============================] - 8s 32ms/step - loss: 2.0512 - accuracy: 0.2573 - val_loss: 1.7755 - val_accuracy: 0.3291\n",
      "Epoch 14/30\n",
      "233/233 [==============================] - ETA: 0s - loss: 1.9986 - accuracy: 0.2831\n",
      "Epoch 14: val_accuracy did not improve from 0.32906\n",
      "233/233 [==============================] - 7s 30ms/step - loss: 1.9986 - accuracy: 0.2831 - val_loss: 1.8705 - val_accuracy: 0.2427\n",
      "Epoch 15/30\n",
      "231/233 [============================>.] - ETA: 0s - loss: 1.9587 - accuracy: 0.3069\n",
      "Epoch 15: val_accuracy did not improve from 0.32906\n",
      "233/233 [==============================] - 7s 31ms/step - loss: 1.9591 - accuracy: 0.3077 - val_loss: 1.8264 - val_accuracy: 0.3176\n",
      "Epoch 16/30\n",
      "232/233 [============================>.] - ETA: 0s - loss: 1.9177 - accuracy: 0.3211\n",
      "Epoch 16: val_accuracy did not improve from 0.32906\n",
      "233/233 [==============================] - 7s 31ms/step - loss: 1.9187 - accuracy: 0.3206 - val_loss: 1.7624 - val_accuracy: 0.3271\n",
      "Epoch 17/30\n",
      "232/233 [============================>.] - ETA: 0s - loss: 1.8744 - accuracy: 0.3449\n",
      "Epoch 17: val_accuracy did not improve from 0.32906\n",
      "233/233 [==============================] - 7s 31ms/step - loss: 1.8726 - accuracy: 0.3455 - val_loss: 1.9369 - val_accuracy: 0.2956\n",
      "Epoch 18/30\n",
      "232/233 [============================>.] - ETA: 0s - loss: 1.8659 - accuracy: 0.3297\n",
      "Epoch 18: val_accuracy did not improve from 0.32906\n",
      "233/233 [==============================] - 7s 31ms/step - loss: 1.8635 - accuracy: 0.3309 - val_loss: 1.7791 - val_accuracy: 0.3252\n",
      "Epoch 19/30\n",
      "232/233 [============================>.] - ETA: 0s - loss: 1.8073 - accuracy: 0.3673\n",
      "Epoch 19: val_accuracy did not improve from 0.32906\n",
      "233/233 [==============================] - 7s 31ms/step - loss: 1.8075 - accuracy: 0.3670 - val_loss: 1.7999 - val_accuracy: 0.3266\n",
      "Epoch 20/30\n",
      "232/233 [============================>.] - ETA: 0s - loss: 1.7847 - accuracy: 0.3773\n",
      "Epoch 20: val_accuracy did not improve from 0.32906\n",
      "233/233 [==============================] - 7s 31ms/step - loss: 1.7837 - accuracy: 0.3774 - val_loss: 1.8186 - val_accuracy: 0.3210\n",
      "Epoch 21/30\n",
      "233/233 [==============================] - ETA: 0s - loss: 1.7107 - accuracy: 0.4208\n",
      "Epoch 21: val_accuracy improved from 0.32906 to 0.34494, saving model to Checkpoints\\3-5_V16.h5\n",
      "233/233 [==============================] - 7s 32ms/step - loss: 1.7107 - accuracy: 0.4208 - val_loss: 1.8118 - val_accuracy: 0.3449\n",
      "Epoch 22/30\n",
      "233/233 [==============================] - ETA: 0s - loss: 1.6965 - accuracy: 0.4195\n",
      "Epoch 22: val_accuracy did not improve from 0.34494\n",
      "233/233 [==============================] - 7s 31ms/step - loss: 1.6965 - accuracy: 0.4195 - val_loss: 1.7950 - val_accuracy: 0.3391\n",
      "Epoch 23/30\n",
      "233/233 [==============================] - ETA: 0s - loss: 1.6466 - accuracy: 0.4217\n",
      "Epoch 23: val_accuracy did not improve from 0.34494\n",
      "233/233 [==============================] - 8s 32ms/step - loss: 1.6466 - accuracy: 0.4217 - val_loss: 1.7870 - val_accuracy: 0.3346\n",
      "Epoch 24/30\n",
      "232/233 [============================>.] - ETA: 0s - loss: 1.6149 - accuracy: 0.4525\n",
      "Epoch 24: val_accuracy improved from 0.34494 to 0.37949, saving model to Checkpoints\\3-5_V16.h5\n",
      "233/233 [==============================] - 8s 33ms/step - loss: 1.6134 - accuracy: 0.4531 - val_loss: 1.7532 - val_accuracy: 0.3795\n",
      "Epoch 25/30\n",
      "233/233 [==============================] - ETA: 0s - loss: 1.6033 - accuracy: 0.4613\n",
      "Epoch 25: val_accuracy did not improve from 0.37949\n",
      "233/233 [==============================] - 7s 31ms/step - loss: 1.6033 - accuracy: 0.4613 - val_loss: 1.7984 - val_accuracy: 0.3383\n",
      "Epoch 26/30\n",
      "231/233 [============================>.] - ETA: 0s - loss: 1.5576 - accuracy: 0.4761\n",
      "Epoch 26: val_accuracy did not improve from 0.37949\n",
      "233/233 [==============================] - 7s 31ms/step - loss: 1.5583 - accuracy: 0.4755 - val_loss: 1.9652 - val_accuracy: 0.3561\n",
      "Epoch 27/30\n",
      "231/233 [============================>.] - ETA: 0s - loss: 1.5281 - accuracy: 0.4826\n",
      "Epoch 27: val_accuracy did not improve from 0.37949\n",
      "233/233 [==============================] - 8s 33ms/step - loss: 1.5306 - accuracy: 0.4819 - val_loss: 1.9341 - val_accuracy: 0.2887\n",
      "Epoch 28/30\n",
      "231/233 [============================>.] - ETA: 0s - loss: 1.5174 - accuracy: 0.4887\n",
      "Epoch 28: val_accuracy did not improve from 0.37949\n",
      "233/233 [==============================] - 7s 32ms/step - loss: 1.5169 - accuracy: 0.4888 - val_loss: 1.8236 - val_accuracy: 0.3650\n"
     ]
    },
    {
     "name": "stdout",
     "output_type": "stream",
     "text": [
      "Epoch 29/30\n",
      "233/233 [==============================] - ETA: 0s - loss: 1.4825 - accuracy: 0.4987\n",
      "Epoch 29: val_accuracy did not improve from 0.37949\n",
      "233/233 [==============================] - 7s 32ms/step - loss: 1.4825 - accuracy: 0.4987 - val_loss: 1.8102 - val_accuracy: 0.3611\n",
      "Epoch 30/30\n",
      "233/233 [==============================] - ETA: 0s - loss: 1.4631 - accuracy: 0.5086\n",
      "Epoch 30: val_accuracy did not improve from 0.37949\n",
      "233/233 [==============================] - 7s 32ms/step - loss: 1.4631 - accuracy: 0.5086 - val_loss: 1.8187 - val_accuracy: 0.3709\n"
     ]
    }
   ],
   "source": [
    "with tf.device('/GPU:0'):\n",
    "    history = model.fit(train_dataset, validation_data=val_dataset,  \n",
    "                      callbacks=callbackFunction('3-5_V16'),\n",
    "                      batch_size=BS,  \n",
    "                      epochs = 30, \n",
    "                      verbose=1,\n",
    "                      class_weight = class_weights\n",
    "                      )"
   ]
  },
  {
   "cell_type": "code",
   "execution_count": 17,
   "id": "cec62615",
   "metadata": {},
   "outputs": [
    {
     "data": {
      "image/png": "[encoded data removed]",
      "text/plain": [
       "<Figure size 1200x400 with 2 Axes>"
      ]
     },
     "metadata": {},
     "output_type": "display_data"
    }
   ],
   "source": [
    "import matplotlib.pyplot as plt\n",
    "\n",
    "# Extract training history\n",
    "training_loss = history.history['loss']\n",
    "training_accuracy = history.history['accuracy']\n",
    "validation_loss = history.history['val_loss']\n",
    "validation_accuracy = history.history['val_accuracy']\n",
    "\n",
    "# Plot training and validation loss\n",
    "plt.figure(figsize=(12, 4))\n",
    "plt.subplot(1, 2, 1)\n",
    "plt.plot(training_loss, label='Training Loss')\n",
    "plt.plot(validation_loss, label='Validation Loss')\n",
    "plt.title('Training and Validation Loss')\n",
    "plt.xlabel('Epoch')\n",
    "plt.ylabel('Loss')\n",
    "plt.legend()\n",
    "\n",
    "# Plot training and validation accuracy\n",
    "plt.subplot(1, 2, 2)\n",
    "plt.plot(training_accuracy, label='Training Accuracy')\n",
    "plt.plot(validation_accuracy, label='Validation Accuracy')\n",
    "plt.title('Training and Validation Accuracy')\n",
    "plt.xlabel('Epoch')\n",
    "plt.ylabel('Accuracy')\n",
    "plt.legend()\n",
    "\n",
    "plt.tight_layout()\n",
    "plt.show()"
   ]
  },
  {
   "cell_type": "code",
   "execution_count": 21,
   "id": "b165e734",
   "metadata": {},
   "outputs": [],
   "source": [
    "model.save('new_3-1_v16_FER2013.h5')"
   ]
  },
  {
   "cell_type": "code",
   "execution_count": 18,
   "id": "aa8bdabb",
   "metadata": {},
   "outputs": [
    {
     "name": "stdout",
     "output_type": "stream",
     "text": [
      "Found 758 images belonging to 7 classes.\n",
      "Found 213 images belonging to 7 classes.\n"
     ]
    }
   ],
   "source": [
    "test_dir = 'E:/dataset/Only_Kor_Test/'\n",
    "test_datagen  = ImageDataGenerator(rescale = 1./255)\n",
    "test_dataset = test_datagen.flow_from_directory(directory = test_dir,\n",
    "                                                  target_size = IMAGE_SIZE,\n",
    "                                                  class_mode = 'categorical',\n",
    "                                                  #shuffle =True,\n",
    "                                                  batch_size = BS)\n",
    "jaffe_dir = 'E:/dataset/jaffedbase/'\n",
    "jaffe_datagen  = ImageDataGenerator(rescale = 1./255)\n",
    "jaffe_dataset = test_datagen.flow_from_directory(directory = jaffe_dir,\n",
    "                                                  target_size = IMAGE_SIZE,\n",
    "                                                  class_mode = 'categorical',\n",
    "                                                  #shuffle =True,\n",
    "                                                  batch_size = BS)"
   ]
  },
  {
   "cell_type": "code",
   "execution_count": 19,
   "id": "b449db57",
   "metadata": {},
   "outputs": [
    {
     "name": "stdout",
     "output_type": "stream",
     "text": [
      "233/233 [==============================] - 2s 7ms/step - loss: 1.1491 - accuracy: 0.5723\n",
      "359/359 [==============================] - 2s 6ms/step - loss: 1.8187 - accuracy: 0.3709\n",
      "76/76 [==============================] - 1s 9ms/step - loss: 1.7923 - accuracy: 0.3047\n",
      "22/22 [==============================] - 0s 15ms/step - loss: 2.0417 - accuracy: 0.2864\n"
     ]
    }
   ],
   "source": [
    "train_evalation = model.evaluate(train_dataset)\n",
    "val_evalation = model.evaluate(val_dataset)\n",
    "test_evaluation = model.evaluate(test_dataset)\n",
    "jaffe_evaluation = model.evaluate(jaffe_dataset)"
   ]
  },
  {
   "cell_type": "code",
   "execution_count": 20,
   "id": "d7a723f3",
   "metadata": {},
   "outputs": [
    {
     "name": "stdout",
     "output_type": "stream",
     "text": [
      "\n",
      "\n",
      "Model Scores\n",
      "\n"
     ]
    },
    {
     "data": {
      "text/html": [
       "<table border=\"1\" class=\"dataframe\">\n",
       "  <thead>\n",
       "    <tr style=\"text-align: right;\">\n",
       "      <th></th>\n",
       "      <th>Metric Name</th>\n",
       "      <th>Train</th>\n",
       "      <th>Validate</th>\n",
       "      <th>KFE</th>\n",
       "      <th>JAFFE</th>\n",
       "    </tr>\n",
       "  </thead>\n",
       "  <tbody>\n",
       "    <tr>\n",
       "      <th>0</th>\n",
       "      <td>Loss</td>\n",
       "      <td>1.149</td>\n",
       "      <td>1.819</td>\n",
       "      <td>1.792</td>\n",
       "      <td>2.042</td>\n",
       "    </tr>\n",
       "    <tr>\n",
       "      <th>1</th>\n",
       "      <td>Accuracy</td>\n",
       "      <td>0.572</td>\n",
       "      <td>0.371</td>\n",
       "      <td>0.305</td>\n",
       "      <td>0.286</td>\n",
       "    </tr>\n",
       "  </tbody>\n",
       "</table>"
      ],
      "text/plain": [
       "<IPython.core.display.HTML object>"
      ]
     },
     "execution_count": 20,
     "metadata": {},
     "output_type": "execute_result"
    }
   ],
   "source": [
    "metric_list = [\"Loss\",\"Accuracy\", \"Precision\", \"F1_Score\", \"Recall\", \"Auc\"]\n",
    "\n",
    "df = pd.DataFrame(list(zip(metric_list, \n",
    "                           [round(num, 3) for num in train_evalation], \n",
    "                           [round(num, 3) for num in val_evalation],\n",
    "                           [round(num, 3) for num in test_evaluation],\n",
    "                           [round(num, 3) for num in jaffe_evaluation],\n",
    "                          )),\n",
    "                  columns=['Metric Name', 'Train', 'Validate', 'KFE', 'JAFFE'])\n",
    "\n",
    "print('\\n\\nModel Scores\\n')\n",
    "\n",
    "HTML(df.to_html(escape=False))"
   ]
  },
  {
   "cell_type": "code",
   "execution_count": null,
   "id": "5af7d904",
   "metadata": {},
   "outputs": [],
   "source": []
  },
  {
   "cell_type": "code",
   "execution_count": null,
   "id": "74910357",
   "metadata": {},
   "outputs": [],
   "source": []
  }
 ],
 "metadata": {
  "kernelspec": {
   "display_name": "Python 3 (ipykernel)",
   "language": "python",
   "name": "python3"
  },
  "language_info": {
   "codemirror_mode": {
    "name": "ipython",
    "version": 3
   },
   "file_extension": ".py",
   "mimetype": "text/x-python",
   "name": "python",
   "nbconvert_exporter": "python",
   "pygments_lexer": "ipython3",
   "version": "3.8.10"
  }
 },
 "nbformat": 4,
 "nbformat_minor": 5
}
